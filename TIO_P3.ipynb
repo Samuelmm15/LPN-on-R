{
  "nbformat": 4,
  "nbformat_minor": 0,
  "metadata": {
    "colab": {
      "provenance": [],
      "include_colab_link": true
    },
    "kernelspec": {
      "name": "ir",
      "display_name": "R"
    },
    "language_info": {
      "name": "R"
    }
  },
  "cells": [
    {
      "cell_type": "markdown",
      "metadata": {
        "id": "view-in-github",
        "colab_type": "text"
      },
      "source": [
        "<a href=\"https://colab.research.google.com/github/Samuelmm15/LPN-on-R/blob/main/TIO_P3.ipynb\" target=\"_parent\"><img src=\"https://colab.research.google.com/assets/colab-badge.svg\" alt=\"Open In Colab\"/></a>"
      ]
    },
    {
      "cell_type": "code",
      "execution_count": null,
      "metadata": {
        "id": "lZo7nNczUBBF",
        "colab": {
          "base_uri": "https://localhost:8080/"
        },
        "outputId": "e06afb9c-b88a-440a-a09a-9658cfede794"
      },
      "outputs": [
        {
          "output_type": "stream",
          "name": "stderr",
          "text": [
            "Loading required namespace: lsa\n",
            "\n"
          ]
        }
      ],
      "source": [
        "# Intalar librerias\n",
        "if (!requireNamespace(\"tm\"))\n",
        "  install.packages(\"tm\")\n",
        "if (!requireNamespace(\"wordcloud\"))\n",
        "  install.packages(\"wordcloud\")\n",
        "if (!requireNamespace(\"SnowballC\"))\n",
        "  install.packages(\"SnowballC\")\n",
        "if (!requireNamespace(\"lsa\"))\n",
        "  install.packages(\"lsa\")"
      ]
    },
    {
      "cell_type": "code",
      "source": [
        "library(tm) # Text Mining Package\n",
        "library(wordcloud) #Word Clouds\n",
        "library(SnowballC)\n",
        "library(lsa)"
      ],
      "metadata": {
        "id": "QYs4vPfaUwrf"
      },
      "execution_count": null,
      "outputs": []
    },
    {
      "cell_type": "code",
      "source": [
        "directory <- \"./Wheat\"\n",
        "# Se obtiene los nombres de los archivos en el directorio\n",
        "files <- list.files(directory, full.names = TRUE)\n",
        "\n",
        "# Se almacena el contenido de los ficheros en una lista\n",
        "files_content <- list()\n",
        "\n",
        "# Se realiza la iteración de los archivos para poder guardar todo el contenido\n",
        "for (file in files) {\n",
        "  content <- readLines(file,encoding=\"UTF-8\")\n",
        "  files_content[[file]] <- content\n",
        "}\n",
        "\n",
        "# Comprobación del funcionamiento\n",
        "# print(files_content)"
      ],
      "metadata": {
        "id": "82bNw20H9jBV"
      },
      "execution_count": null,
      "outputs": []
    },
    {
      "cell_type": "code",
      "source": [
        "#Construcción del corpus\n",
        "corpus <- Corpus(VectorSource(files_content))\n",
        "corpus"
      ],
      "metadata": {
        "colab": {
          "base_uri": "https://localhost:8080/",
          "height": 69
        },
        "id": "pKe6oel1VmCR",
        "outputId": "4b7a1088-0b85-4b4c-d852-50718ff27beb"
      },
      "execution_count": null,
      "outputs": [
        {
          "output_type": "display_data",
          "data": {
            "text/plain": [
              "<<SimpleCorpus>>\n",
              "Metadata:  corpus specific: 1, document level (indexed): 0\n",
              "Content:  documents: 20"
            ]
          },
          "metadata": {}
        }
      ]
    },
    {
      "cell_type": "code",
      "source": [
        "# Pregunta 2: Realice transformaciones con el corpus similar a las desarrolladas en la actividad tutorizada. Incluya la lematización, si es posible con la ayuda de stemDocument or stemCompletion.\n",
        "#Eliminar los espacios/Minusculas/Puntuación\n",
        "d <- tm_map(corpus, content_transformer(tolower))\n",
        "d <- tm_map(d, removePunctuation)\n",
        "d <- tm_map(d, stripWhitespace)\n",
        "d <- tm_map(d, removeNumbers)\n",
        "d <- tm_map(d, removeWords, stopwords(\"english\"))\n",
        "d <- tm_map(d, stemDocument) # Implementación de lematización mediante StemDocument\n",
        "inspect(d)"
      ],
      "metadata": {
        "id": "sXqsL6g9V8kg"
      },
      "execution_count": null,
      "outputs": []
    },
    {
      "cell_type": "code",
      "source": [
        "# Pregunta 3: Obtenga la matriz de Términos-Documentos.\n",
        "# Creación de la matriz de términos\n",
        "tdm <- TermDocumentMatrix(d)\n",
        "\n",
        "# convierte a una matriz\n",
        "m = as.matrix(tdm)\n",
        "m"
      ],
      "metadata": {
        "id": "dtiAvNgpYMBd"
      },
      "execution_count": null,
      "outputs": []
    },
    {
      "cell_type": "code",
      "source": [
        "# Pregunta 4. Indique cuales son los términos más frecuentes en estas transcripciones\n",
        "# conteo de palabras en orden decreciente\n",
        "wf <- sort(rowSums(m),decreasing=TRUE)\n",
        "wf"
      ],
      "metadata": {
        "id": "QK0Wt5aiZTHR"
      },
      "execution_count": null,
      "outputs": []
    },
    {
      "cell_type": "code",
      "source": [
        "# Pregunta 4. Indique cuales son los términos más frecuentes en estas transcripciones\n",
        "# crea un data frame con las palabras y sus frecuencias\n",
        "dm <- data.frame(word = names(wf), freq=wf)\n",
        "dm"
      ],
      "metadata": {
        "id": "UTlY7H_jZVBb"
      },
      "execution_count": null,
      "outputs": []
    },
    {
      "cell_type": "code",
      "source": [
        "# Pregunta 6: Muestre el espacio semántico latente donde las filas son los términos y las columnas son documentos. [as.textmatrix].\n",
        "# read files into a document-term matrix\n",
        "myMatrix = textmatrix(\"./Wheat\", minWordLength=1)\n",
        "# create the latent semantic space\n",
        "myLSAspace = lsa(myMatrix, dims=dimcalc_raw())\n",
        "# display it as a textmatrix again\n",
        "round(as.textmatrix(myLSAspace),2) # should give the original"
      ],
      "metadata": {
        "id": "e8SfgQR_gnfo"
      },
      "execution_count": null,
      "outputs": []
    },
    {
      "cell_type": "code",
      "source": [
        "# Pregunta 7: Obtenga un resumen de las principales estadísticas de la matriz de textos.\n",
        "# Resumen de myMatrix\n",
        "summary(myMatrix)\n",
        "# Resumen de LSA\n",
        "summary(myLSAspace)"
      ],
      "metadata": {
        "id": "b-gP673xLWy-",
        "colab": {
          "base_uri": "https://localhost:8080/",
          "height": 225
        },
        "outputId": "6d9e5faa-16e0-43b0-c06d-934177eb5e3a"
      },
      "execution_count": 139,
      "outputs": [
        {
          "output_type": "display_data",
          "data": {
            "text/plain": [
              "                vocabulary                  documents \n",
              "                      1177                         20 \n",
              "             freqs not '0'            max term length \n",
              "                      2255                         13 \n",
              "non-alphanumerics in terms \n",
              "                         0 \n",
              "attr(,\"class\")\n",
              "[1] \"summary.textmatrix\""
            ]
          },
          "metadata": {}
        },
        {
          "output_type": "display_data",
          "data": {
            "text/plain": [
              "   Length Class  Mode   \n",
              "tk 3531   -none- numeric\n",
              "dk   60   -none- numeric\n",
              "sk    3   -none- numeric"
            ]
          },
          "metadata": {}
        }
      ]
    },
    {
      "cell_type": "code",
      "source": [
        "# Pregunta 8: Haga algunas comparaciones entre términos que pertenecen al dominio.\n",
        "# compare two terms with the cosine measure\n",
        "cosine(myNewMatrix[\"one\",], myNewMatrix[\"five\",])"
      ],
      "metadata": {
        "colab": {
          "base_uri": "https://localhost:8080/",
          "height": 100
        },
        "id": "XM-hiRfzhu3E",
        "outputId": "6df9f32f-8685-4ba9-d024-97952a6efeb7"
      },
      "execution_count": 140,
      "outputs": [
        {
          "output_type": "display_data",
          "data": {
            "text/html": [
              "<table class=\"dataframe\">\n",
              "<caption>A matrix: 1 × 1 of type dbl</caption>\n",
              "<tbody>\n",
              "\t<tr><td>0.998498</td></tr>\n",
              "</tbody>\n",
              "</table>\n"
            ],
            "text/markdown": "\nA matrix: 1 × 1 of type dbl\n\n| 0.998498 |\n\n",
            "text/latex": "A matrix: 1 × 1 of type dbl\n\\begin{tabular}{l}\n\t 0.998498\\\\\n\\end{tabular}\n",
            "text/plain": [
              "     [,1]    \n",
              "[1,] 0.998498"
            ]
          },
          "metadata": {}
        }
      ]
    },
    {
      "cell_type": "code",
      "source": [
        "# Pregunta 8: Haga algunas comparaciones entre términos que pertenecen al dominio.\n",
        "# compare two terms with the cosine measure\n",
        "cosine(myNewMatrix[\"last\",], myNewMatrix[\"export\",])"
      ],
      "metadata": {
        "colab": {
          "base_uri": "https://localhost:8080/",
          "height": 83
        },
        "id": "vHi6qVoBNA83",
        "outputId": "99c2c978-68ee-4168-b047-c2add6392689"
      },
      "execution_count": 142,
      "outputs": [
        {
          "output_type": "display_data",
          "data": {
            "text/html": [
              "<table class=\"dataframe\">\n",
              "<caption>A matrix: 1 × 1 of type dbl</caption>\n",
              "<tbody>\n",
              "\t<tr><td>0.05610108</td></tr>\n",
              "</tbody>\n",
              "</table>\n"
            ],
            "text/markdown": "\nA matrix: 1 × 1 of type dbl\n\n| 0.05610108 |\n\n",
            "text/latex": "A matrix: 1 × 1 of type dbl\n\\begin{tabular}{l}\n\t 0.05610108\\\\\n\\end{tabular}\n",
            "text/plain": [
              "     [,1]      \n",
              "[1,] 0.05610108"
            ]
          },
          "metadata": {}
        }
      ]
    },
    {
      "cell_type": "code",
      "source": [
        "# Pregunta 8: Haga algunas comparaciones entre similitud entre documentos\n",
        "# compare two documents with pearson\n",
        "cor(myNewMatrix[,1], myNewMatrix[,2], method=\"pearson\")"
      ],
      "metadata": {
        "colab": {
          "base_uri": "https://localhost:8080/",
          "height": 34
        },
        "id": "rARCnojzh6zZ",
        "outputId": "9c40efe2-6717-405c-ad8b-1ee091e29aa8"
      },
      "execution_count": null,
      "outputs": [
        {
          "output_type": "display_data",
          "data": {
            "text/html": [
              "0.59302684104194"
            ],
            "text/markdown": "0.59302684104194",
            "text/latex": "0.59302684104194",
            "text/plain": [
              "[1] 0.5930268"
            ]
          },
          "metadata": {}
        }
      ]
    },
    {
      "cell_type": "code",
      "source": [
        "# Pregunta 8: Haga algunas comparaciones entre similitud entre documentos\n",
        "# compare two documents with pearson\n",
        "cor(myNewMatrix[,5], myNewMatrix[,20], method=\"pearson\")"
      ],
      "metadata": {
        "colab": {
          "base_uri": "https://localhost:8080/",
          "height": 34
        },
        "id": "EUYKlJi4NUSZ",
        "outputId": "69f89f75-b2a7-4dcc-9ab0-9c645e973467"
      },
      "execution_count": 143,
      "outputs": [
        {
          "output_type": "display_data",
          "data": {
            "text/html": [
              "0.516819544664767"
            ],
            "text/markdown": "0.516819544664767",
            "text/latex": "0.516819544664767",
            "text/plain": [
              "[1] 0.5168195"
            ]
          },
          "metadata": {}
        }
      ]
    }
  ]
}